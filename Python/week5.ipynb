{
 "cells": [
  {
   "cell_type": "code",
   "execution_count": 9,
   "metadata": {},
   "outputs": [
    {
     "ename": "SyntaxError",
     "evalue": "invalid syntax (<ipython-input-9-72b8dd48651b>, line 17)",
     "output_type": "error",
     "traceback": [
      "\u001b[0;36m  File \u001b[0;32m\"<ipython-input-9-72b8dd48651b>\"\u001b[0;36m, line \u001b[0;32m17\u001b[0m\n\u001b[0;31m    def setFuel=(self, fuel):\u001b[0m\n\u001b[0m               ^\u001b[0m\n\u001b[0;31mSyntaxError\u001b[0m\u001b[0;31m:\u001b[0m invalid syntax\n"
     ]
    }
   ],
   "source": [
    "class Car:\n",
    "    def __init__(self, speed=0, gear=1, color=\"white\", fuel=100):\n",
    "        self.__speed=speed\n",
    "        self.__gear=gear\n",
    "        self.__color=color\n",
    "        self.__fuel=fuel\n",
    "        \n",
    "    def setSpeed(self, speed):\n",
    "        self.__speed=speed\n",
    "    \n",
    "    def setGear(self, gear):\n",
    "        self.__gear=gear\n",
    "        \n",
    "    def setColor(self, color):\n",
    "        self.__color=color\n",
    "        \n",
    "    def setFuel=(self, fuel):\n",
    "        self.__fuel = fuel\n",
    "    \n",
    "    def needFuel(self, distance): \n",
    "        fuel = 100*distance\n",
    "        return fuel\n",
    "    \n",
    "    def __str__(self):\n",
    "        return '(%d, %d, %s, %d)' % (self.__speed, self.__gear, self.__color, self.__fuel)"
   ]
  },
  {
   "cell_type": "code",
   "execution_count": 8,
   "metadata": {},
   "outputs": [
    {
     "name": "stdout",
     "output_type": "stream",
     "text": [
      "(100, 3, white)\n"
     ]
    }
   ],
   "source": [
    "myCar = Car()\n",
    "myCar.setGear(3)\n",
    "myCar.setSpeed(100)\n",
    "print(myCar)"
   ]
  },
  {
   "cell_type": "code",
   "execution_count": 9,
   "metadata": {},
   "outputs": [],
   "source": [
    "def StringSort():\n",
    "    ##문자열 정렬\n",
    "    list = []\n",
    "    \n",
    "    while(True):\n",
    "        string = (input(\"문장을 입력하세요:\"))\n",
    "        if string == '-1':\n",
    "            break\n",
    "        \n",
    "        list.append(string)\n",
    "        print(list)\n",
    "        print(string)\n",
    "\n",
    "    print(\"-- 스펠링 순서대로 --\")\n",
    "    print(sorted(list, reverse=False))\n",
    "    print(\"-- 스펠링 순서 반대로 --\")\n",
    "    print(sorted(list, reverse=True))"
   ]
  },
  {
   "cell_type": "code",
   "execution_count": 10,
   "metadata": {},
   "outputs": [
    {
     "name": "stdout",
     "output_type": "stream",
     "text": [
      "문장을 입력하세요:박세은\n",
      "['박세은']\n",
      "박세은\n",
      "문장을 입력하세요:강지연\n",
      "['박세은', '강지연']\n",
      "강지연\n",
      "문장을 입력하세요:윤재희\n",
      "['박세은', '강지연', '윤재희']\n",
      "윤재희\n",
      "문장을 입력하세요:최세영\n",
      "['박세은', '강지연', '윤재희', '최세영']\n",
      "최세영\n",
      "문장을 입력하세요:오윤진\n",
      "['박세은', '강지연', '윤재희', '최세영', '오윤진']\n",
      "오윤진\n",
      "문장을 입력하세요:-1\n",
      "-- 스펠링 순서 반대로 --\n",
      "['최세영', '윤재희', '오윤진', '박세은', '강지연']\n",
      "-- 스펠링 순서대로 --\n",
      "['강지연', '박세은', '오윤진', '윤재희', '최세영']\n"
     ]
    }
   ],
   "source": [
    "StringSort()"
   ]
  },
  {
   "cell_type": "code",
   "execution_count": 21,
   "metadata": {},
   "outputs": [],
   "source": [
    "def Sort():\n",
    "    ##숫자 정렬\n",
    "    list=[]\n",
    "    \n",
    "    while(True):\n",
    "        string = int(input(\"문장을 입력하세요:\"))\n",
    "        if string == -999:\n",
    "            break\n",
    "        \n",
    "        list.append(string)\n",
    "        print(list)\n",
    "        print(string)\n",
    "\n",
    "    up_list=sorted(list, reverse=False) \n",
    "    ##down_list=sorted(list,reverse=True)\n",
    "    \n",
    "    print(\"-- 스펠링 순서대로 --\")  \n",
    "    print(sorted(list, reverse=False))\n",
    "    \n",
    "    ##print(\"-- 스펠링 순서 반대로 --\")   \n",
    "    ##print(sorted(list, reverse=True))\n",
    "    \n",
    "    if list == up_list:\n",
    "        return True\n",
    "    else:\n",
    "        return False "
   ]
  },
  {
   "cell_type": "code",
   "execution_count": 22,
   "metadata": {},
   "outputs": [
    {
     "name": "stdout",
     "output_type": "stream",
     "text": [
      "문장을 입력하세요:234\n",
      "[234]\n",
      "234\n",
      "문장을 입력하세요:893\n",
      "[234, 893]\n",
      "893\n",
      "문장을 입력하세요:234769\n",
      "[234, 893, 234769]\n",
      "234769\n",
      "문장을 입력하세요:75364278\n",
      "[234, 893, 234769, 75364278]\n",
      "75364278\n",
      "문장을 입력하세요:23\n",
      "[234, 893, 234769, 75364278, 23]\n",
      "23\n",
      "문장을 입력하세요:-999\n",
      "-- 스펠링 순서대로 --\n",
      "[23, 234, 893, 234769, 75364278]\n"
     ]
    },
    {
     "data": {
      "text/plain": [
       "False"
      ]
     },
     "execution_count": 22,
     "metadata": {},
     "output_type": "execute_result"
    }
   ],
   "source": [
    "Sort()"
   ]
  },
  {
   "cell_type": "code",
   "execution_count": 23,
   "metadata": {},
   "outputs": [
    {
     "name": "stdout",
     "output_type": "stream",
     "text": [
      "문장을 입력하세요:14\n",
      "[14]\n",
      "14\n",
      "문장을 입력하세요:34\n",
      "[14, 34]\n",
      "34\n",
      "문장을 입력하세요:47\n",
      "[14, 34, 47]\n",
      "47\n",
      "문장을 입력하세요:697\n",
      "[14, 34, 47, 697]\n",
      "697\n",
      "문장을 입력하세요:2395\n",
      "[14, 34, 47, 697, 2395]\n",
      "2395\n",
      "문장을 입력하세요:-999\n",
      "-- 스펠링 순서대로 --\n",
      "[14, 34, 47, 697, 2395]\n"
     ]
    },
    {
     "data": {
      "text/plain": [
       "True"
      ]
     },
     "execution_count": 23,
     "metadata": {},
     "output_type": "execute_result"
    }
   ],
   "source": [
    "Sort()"
   ]
  }
 ],
 "metadata": {
  "kernelspec": {
   "display_name": "Python 3",
   "language": "python",
   "name": "python3"
  },
  "language_info": {
   "codemirror_mode": {
    "name": "ipython",
    "version": 3
   },
   "file_extension": ".py",
   "mimetype": "text/x-python",
   "name": "python",
   "nbconvert_exporter": "python",
   "pygments_lexer": "ipython3",
   "version": "3.6.5"
  }
 },
 "nbformat": 4,
 "nbformat_minor": 2
}
