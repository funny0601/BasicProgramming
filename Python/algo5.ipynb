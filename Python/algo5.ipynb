{
 "cells": [
  {
   "cell_type": "code",
   "execution_count": null,
   "metadata": {},
   "outputs": [],
   "source": [
    "B(2<=B<=10)를 입력했을 때 진수대칭변환을 찾고 싶다.\n",
    "진수대칭변환이란 1부터 300까지의 수 중에서 그 제곱을 B진수로 표현했을 때,\n",
    "좌우대칭이 되는 경우를 말한다.\n",
    "B=2일 때, 1과 3은 진수대칭변환이 된다.\n",
    "1^2 = 1 -> [1]\n",
    "3^2 = 9 -> [1001]\n",
    "B 입력시 진수대칭변환 출력 후 개수를 구하는 프로그램을 작성하라.\n"
   ]
  },
  {
   "cell_type": "code",
   "execution_count": 33,
   "metadata": {},
   "outputs": [],
   "source": [
    "def DivDigit(num):\n",
    "    DigitList=[]\n",
    "    count=0\n",
    "    \n",
    "    for i in range(1, 301):\n",
    "        rangeNum=i**2\n",
    "        \n",
    "        while(rangeNum!=0):           \n",
    "            DigitList.append(rangeNum%num)\n",
    "            rangeNum=rangeNum//num\n",
    "\n",
    "        if(list(reversed(DigitList))==DigitList):\n",
    "            count = count+1\n",
    "            print(i,\" \",DigitList)\n",
    "            \n",
    "        DigitList.clear()\n",
    "        \n",
    "    print(count,\"개의 진수대칭변환이 있습니다.\")"
   ]
  },
  {
   "cell_type": "code",
   "execution_count": 34,
   "metadata": {},
   "outputs": [
    {
     "name": "stdout",
     "output_type": "stream",
     "text": [
      "2부터 10 사이의 숫자를 입력해주세요>>10\n",
      "1   [1]\n",
      "2   [4]\n",
      "3   [9]\n",
      "11   [1, 2, 1]\n",
      "22   [4, 8, 4]\n",
      "26   [6, 7, 6]\n",
      "101   [1, 0, 2, 0, 1]\n",
      "111   [1, 2, 3, 2, 1]\n",
      "121   [1, 4, 6, 4, 1]\n",
      "202   [4, 0, 8, 0, 4]\n",
      "212   [4, 4, 9, 4, 4]\n",
      "264   [6, 9, 6, 9, 6]\n",
      "12 개의 진수대칭변환이 있습니다.\n"
     ]
    }
   ],
   "source": [
    "num=int(input(\"2부터 10 사이의 숫자를 입력해주세요>>\"))\n",
    "DivDigit(num)"
   ]
  }
 ],
 "metadata": {
  "kernelspec": {
   "display_name": "Python 3",
   "language": "python",
   "name": "python3"
  },
  "language_info": {
   "codemirror_mode": {
    "name": "ipython",
    "version": 3
   },
   "file_extension": ".py",
   "mimetype": "text/x-python",
   "name": "python",
   "nbconvert_exporter": "python",
   "pygments_lexer": "ipython3",
   "version": "3.7.1"
  }
 },
 "nbformat": 4,
 "nbformat_minor": 2
}
