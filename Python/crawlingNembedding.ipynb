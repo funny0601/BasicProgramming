{
  "nbformat": 4,
  "nbformat_minor": 0,
  "metadata": {
    "colab": {
      "name": "sy_crawling_cat.ipynb",
      "version": "0.3.2",
      "provenance": [],
      "collapsed_sections": [],
      "toc_visible": true
    },
    "kernelspec": {
      "display_name": "Python 3",
      "language": "python",
      "name": "python3"
    }
  },
  "cells": [
    {
      "metadata": {
        "id": "qBjz9tF-ga6O",
        "colab_type": "code",
        "colab": {
          "base_uri": "https://localhost:8080/",
          "height": 248
        },
        "outputId": "ecf89072-4106-442a-f930-ce6f0429bee6"
      },
      "cell_type": "code",
      "source": [
        "!pip3 install KoNLPy"
      ],
      "execution_count": 34,
      "outputs": [
        {
          "output_type": "stream",
          "text": [
            "Collecting KoNLPy\n",
            "\u001b[?25l  Downloading https://files.pythonhosted.org/packages/e5/3d/4e983cd98d87b50b2ab0387d73fa946f745aa8164e8888a714d5129f9765/konlpy-0.5.1-py2.py3-none-any.whl (19.4MB)\n",
            "\u001b[K    100% |████████████████████████████████| 19.4MB 1.8MB/s \n",
            "\u001b[?25hCollecting JPype1>=0.5.7 (from KoNLPy)\n",
            "\u001b[?25l  Downloading https://files.pythonhosted.org/packages/c4/4b/60a3e63d51714d4d7ef1b1efdf84315d118a0a80a5b085bb52a7e2428cdc/JPype1-0.6.3.tar.gz (168kB)\n",
            "\u001b[K    100% |████████████████████████████████| 174kB 27.7MB/s \n",
            "\u001b[?25hBuilding wheels for collected packages: JPype1\n",
            "  Building wheel for JPype1 (setup.py) ... \u001b[?25ldone\n",
            "\u001b[?25h  Stored in directory: /root/.cache/pip/wheels/0e/2b/e8/c0b818ac4b3d35104d35e48cdc7afe27fc06ea277feed2831a\n",
            "Successfully built JPype1\n",
            "Installing collected packages: JPype1, KoNLPy\n",
            "Successfully installed JPype1-0.6.3 KoNLPy-0.5.1\n"
          ],
          "name": "stdout"
        }
      ]
    },
    {
      "metadata": {
        "id": "sruSIS7PgegS",
        "colab_type": "code",
        "colab": {}
      },
      "cell_type": "code",
      "source": [
        "from konlpy.tag import *"
      ],
      "execution_count": 0,
      "outputs": []
    },
    {
      "metadata": {
        "id": "SYFJSDbKggyM",
        "colab_type": "code",
        "colab": {
          "base_uri": "https://localhost:8080/",
          "height": 52
        },
        "outputId": "e402544e-3321-40d1-da4a-a1fc1834e77e"
      },
      "cell_type": "code",
      "source": [
        "twitter = Twitter()\n",
        "komoran = Komoran()\n",
        "kkma = Kkma()"
      ],
      "execution_count": 36,
      "outputs": [
        {
          "output_type": "stream",
          "text": [
            "/usr/local/lib/python3.6/dist-packages/konlpy/tag/_okt.py:16: UserWarning: \"Twitter\" has changed to \"Okt\" since KoNLPy v0.4.5.\n",
            "  warn('\"Twitter\" has changed to \"Okt\" since KoNLPy v0.4.5.')\n"
          ],
          "name": "stderr"
        }
      ]
    },
    {
      "metadata": {
        "id": "UuIQmt04mQH7",
        "colab_type": "code",
        "colab": {
          "base_uri": "https://localhost:8080/",
          "height": 266
        },
        "outputId": "9a8a4b21-7fb8-40c9-da9e-1bda731f4158"
      },
      "cell_type": "code",
      "source": [
        "!pip install wikipedia-api\n",
        "\n",
        "\n"
      ],
      "execution_count": 65,
      "outputs": [
        {
          "output_type": "stream",
          "text": [
            "Collecting wikipedia-api\n",
            "  Downloading https://files.pythonhosted.org/packages/be/ed/5b070067dd6f2127de4f7196649dd64f71cd905a0826e4b481fe841daee6/Wikipedia-API-0.4.4.tar.gz\n",
            "Requirement already satisfied: requests in /usr/local/lib/python3.6/dist-packages (from wikipedia-api) (2.18.4)\n",
            "Requirement already satisfied: chardet<3.1.0,>=3.0.2 in /usr/local/lib/python3.6/dist-packages (from requests->wikipedia-api) (3.0.4)\n",
            "Requirement already satisfied: urllib3<1.23,>=1.21.1 in /usr/local/lib/python3.6/dist-packages (from requests->wikipedia-api) (1.22)\n",
            "Requirement already satisfied: certifi>=2017.4.17 in /usr/local/lib/python3.6/dist-packages (from requests->wikipedia-api) (2018.11.29)\n",
            "Requirement already satisfied: idna<2.7,>=2.5 in /usr/local/lib/python3.6/dist-packages (from requests->wikipedia-api) (2.6)\n",
            "Building wheels for collected packages: wikipedia-api\n",
            "  Building wheel for wikipedia-api (setup.py) ... \u001b[?25ldone\n",
            "\u001b[?25h  Stored in directory: /root/.cache/pip/wheels/4c/30/9c/eea5366306c9a7bfb1094c5b42075b2191253858fbf1482621\n",
            "Successfully built wikipedia-api\n",
            "Installing collected packages: wikipedia-api\n",
            "Successfully installed wikipedia-api-0.4.4\n"
          ],
          "name": "stdout"
        }
      ]
    },
    {
      "metadata": {
        "id": "07XmcyIqmQFm",
        "colab_type": "code",
        "colab": {}
      },
      "cell_type": "code",
      "source": [
        "import wikipediaapi"
      ],
      "execution_count": 0,
      "outputs": []
    },
    {
      "metadata": {
        "id": "yqqLcmVUmUx5",
        "colab_type": "code",
        "colab": {
          "base_uri": "https://localhost:8080/",
          "height": 34
        },
        "outputId": "6b0e9625-b400-4cb5-e2a6-38c3d3e136d9"
      },
      "cell_type": "code",
      "source": [
        "wiki=wikipediaapi.Wikipedia('ko')\n",
        "\n",
        "\n",
        "page_cats = wiki.page('노르웨이 숲고양이') \n",
        "print(\"Page - Exists: %s\" % page_cats.exists()) \n"
      ],
      "execution_count": 71,
      "outputs": [
        {
          "output_type": "stream",
          "text": [
            "Page - Exists: True\n"
          ],
          "name": "stdout"
        }
      ]
    },
    {
      "metadata": {
        "id": "rhyUiIiwFR21",
        "colab_type": "code",
        "outputId": "f3ef674b-5ef3-4e57-8773-301580ce952b",
        "colab": {
          "base_uri": "https://localhost:8080/",
          "height": 34
        }
      },
      "cell_type": "code",
      "source": [
        "print(page_cats.title) "
      ],
      "execution_count": 72,
      "outputs": [
        {
          "output_type": "stream",
          "text": [
            "노르웨이 숲고양이\n"
          ],
          "name": "stdout"
        }
      ]
    },
    {
      "metadata": {
        "id": "rWvfHHQGFR3J",
        "colab_type": "code",
        "colab": {}
      },
      "cell_type": "code",
      "source": [
        "text=page_cats.text"
      ],
      "execution_count": 0,
      "outputs": []
    },
    {
      "metadata": {
        "id": "s4GAIaj-FR36",
        "colab_type": "code",
        "colab": {}
      },
      "cell_type": "code",
      "source": [
        "def make_corpus(text):\n",
        "    corpus = []\n",
        "    for s in text.split('\\n'):\n",
        "        corpus.append(['/'.join(p) for p in twitter.pos(s)])\n",
        "    return corpus\n",
        "  \n",
        "  \n",
        "\n",
        "def make_corpus_rm_stopwords(text):\n",
        "    corpus = []\n",
        "    for s in text.split('\\n'):\n",
        "        corpus.append(['/'.join(p) for p in twitter.pos(s) if p[1] != \"Josa\"])\n",
        "    return corpus\n"
      ],
      "execution_count": 0,
      "outputs": []
    },
    {
      "metadata": {
        "id": "5ZWRqWuSFR4M",
        "colab_type": "code",
        "colab": {}
      },
      "cell_type": "code",
      "source": [
        "corpus = make_corpus(text)"
      ],
      "execution_count": 0,
      "outputs": []
    },
    {
      "metadata": {
        "id": "qf_NaKmbFR4b",
        "colab_type": "code",
        "colab": {}
      },
      "cell_type": "code",
      "source": [
        "from gensim.models import Word2Vec, fasttext\n",
        "# input format : [[\"my\", \"name\", \"is\", \"jamie\"], [\"jamie\", \"is\", \"cute\"]]\n",
        "# size : 임베딩 차원\n",
        "# window : 윈도우 사이즈\n",
        "# min_count : 고려할 단어의 최소 빈도 기준\n",
        "# workers : cpu core 수\n",
        "# iter : 반복 학습 횟수(epoch)\n",
        "# sg : 0 -> CBOW, 1 -> Skip-Gram\n",
        "# CBOW_model - Word2Vec(corpus, size=2, window=2, min_count=2, workers=1, iter=1000, sg=1)"
      ],
      "execution_count": 0,
      "outputs": []
    },
    {
      "metadata": {
        "id": "in2tgtiwFR4u",
        "colab_type": "code",
        "colab": {}
      },
      "cell_type": "code",
      "source": [
        "Skip_Gram_model = Word2Vec(corpus, size=2, window=2, min_count=2, workers=1, iter=1000, sg=1)"
      ],
      "execution_count": 0,
      "outputs": []
    },
    {
      "metadata": {
        "id": "5YUWT3aWFR4-",
        "colab_type": "code",
        "outputId": "cf707448-f6d3-4f64-d370-3bc5dd3a47ff",
        "colab": {
          "base_uri": "https://localhost:8080/",
          "height": 1020
        }
      },
      "cell_type": "code",
      "source": [
        "words = Skip_Gram_model.wv.index2word\n",
        "words"
      ],
      "execution_count": 80,
      "outputs": [
        {
          "output_type": "execute_result",
          "data": {
            "text/plain": [
              "['./Punctuation',\n",
              " '고양이/Noun',\n",
              " '에/Josa',\n",
              " '의/Josa',\n",
              " '이/Josa',\n",
              " '노르웨이/Noun',\n",
              " '숲/Noun',\n",
              " '을/Josa',\n",
              " '털/Noun',\n",
              " '은/Josa',\n",
              " '는/Josa',\n",
              " '과/Josa',\n",
              " '들/Suffix',\n",
              " '품종/Noun',\n",
              " '에서/Josa',\n",
              " '이다/Josa',\n",
              " ',/Punctuation',\n",
              " '있는/Adjective',\n",
              " '를/Josa',\n",
              " '가/Josa',\n",
              " '색/Noun',\n",
              " '으로/Josa',\n",
              " '몸/Noun',\n",
              " '그/Noun',\n",
              " '에/Foreign',\n",
              " '특성/Noun',\n",
              " '적/Suffix',\n",
              " '긴/Verb',\n",
              " '있으며/Adjective',\n",
              " '부분/Noun',\n",
              " '귀/Noun',\n",
              " '것/Noun',\n",
              " '도/Josa',\n",
              " '있다/Adjective',\n",
              " '(/Punctuation',\n",
              " '시작/Noun',\n",
              " '하여/Verb',\n",
              " '품종개량/Noun',\n",
              " '로/Josa',\n",
              " '다르다/Adjective',\n",
              " '세기/Noun',\n",
              " '바이킹/Noun',\n",
              " '했다/Verb',\n",
              " '\"/Punctuation',\n",
              " '라고/Josa',\n",
              " '년대/Noun',\n",
              " '하기/Verb',\n",
              " '겨울/Noun',\n",
              " '게/Josa',\n",
              " '눈/Noun',\n",
              " '나/Noun',\n",
              " '끝/Noun',\n",
              " '약간/Noun',\n",
              " '편이/Noun',\n",
              " '다/Josa',\n",
              " '형/Suffix',\n",
              " '환경/Noun']"
            ]
          },
          "metadata": {
            "tags": []
          },
          "execution_count": 80
        }
      ]
    },
    {
      "metadata": {
        "id": "YyWxPJLtFR5J",
        "colab_type": "code",
        "colab": {
          "base_uri": "https://localhost:8080/",
          "height": 1020
        },
        "outputId": "0559505d-c58c-4419-f006-b2c5ab3d8286"
      },
      "cell_type": "code",
      "source": [
        "vectors = Skip_Gram_model.wv.vectors\n",
        "vectors"
      ],
      "execution_count": 81,
      "outputs": [
        {
          "output_type": "execute_result",
          "data": {
            "text/plain": [
              "array([[-0.18100546, -1.02626   ],\n",
              "       [ 0.45835757, -1.4305583 ],\n",
              "       [-0.533387  , -0.88089633],\n",
              "       [-0.4627799 , -0.91611505],\n",
              "       [-0.91917396, -0.86058104],\n",
              "       [ 0.67303526, -1.6702633 ],\n",
              "       [ 0.5935118 , -1.6058915 ],\n",
              "       [-0.20842424, -1.0031128 ],\n",
              "       [-1.7695407 , -1.0171566 ],\n",
              "       [-0.26587507, -0.97595954],\n",
              "       [ 0.16878784, -1.2147049 ],\n",
              "       [-0.6165217 , -0.9004067 ],\n",
              "       [ 0.43197086, -1.529344  ],\n",
              "       [ 0.6740826 , -1.6659864 ],\n",
              "       [ 1.2805294 , -2.3005183 ],\n",
              "       [ 0.10633639, -1.2409743 ],\n",
              "       [ 1.2178586 , -2.2352207 ],\n",
              "       [-0.539884  , -0.90590936],\n",
              "       [ 0.09368941, -1.169089  ],\n",
              "       [-1.231306  , -0.93479913],\n",
              "       [-1.5505068 , -0.9813089 ],\n",
              "       [-0.24206021, -1.0264771 ],\n",
              "       [-0.89532727, -0.8527463 ],\n",
              "       [ 0.25944516, -1.3871328 ],\n",
              "       [ 1.7326128 , -2.9600194 ],\n",
              "       [ 0.2923607 , -0.8428008 ],\n",
              "       [ 0.01261637, -0.7916273 ],\n",
              "       [-2.0277908 , -1.0903668 ],\n",
              "       [-2.0051742 , -1.0609756 ],\n",
              "       [-2.18524   , -1.1686153 ],\n",
              "       [-2.115607  , -1.1296608 ],\n",
              "       [-1.2390913 , -0.966379  ],\n",
              "       [-1.7479633 , -1.0707664 ],\n",
              "       [-1.695741  , -1.0160521 ],\n",
              "       [ 0.5111175 , -1.46164   ],\n",
              "       [ 0.5268048 , -1.5769036 ],\n",
              "       [-0.3954547 , -0.9810733 ],\n",
              "       [ 0.6313106 , -1.6738684 ],\n",
              "       [ 1.122923  , -2.1823466 ],\n",
              "       [ 0.08372951, -1.2070312 ],\n",
              "       [ 0.50067073, -1.5076565 ],\n",
              "       [ 0.4206587 , -1.4665606 ],\n",
              "       [ 0.68144625, -1.7674989 ],\n",
              "       [ 0.88995385, -1.9676793 ],\n",
              "       [ 0.94086105, -1.918179  ],\n",
              "       [ 0.5818801 , -1.6534495 ],\n",
              "       [ 0.51801664, -1.5513548 ],\n",
              "       [-1.8532748 , -0.98597896],\n",
              "       [-2.2976105 , -1.1755017 ],\n",
              "       [-1.9425877 , -1.0492921 ],\n",
              "       [-1.8770502 , -1.0280632 ],\n",
              "       [-2.1611993 , -1.1812664 ],\n",
              "       [-2.00335   , -1.0764382 ],\n",
              "       [-1.701279  , -1.0437508 ],\n",
              "       [-1.6966119 , -1.046944  ],\n",
              "       [-1.0716152 , -0.9238258 ],\n",
              "       [-0.0730394 , -1.1473583 ]], dtype=float32)"
            ]
          },
          "metadata": {
            "tags": []
          },
          "execution_count": 81
        }
      ]
    },
    {
      "metadata": {
        "id": "8QiVT43znc53",
        "colab_type": "code",
        "colab": {}
      },
      "cell_type": "code",
      "source": [
        "Skip_Gram_model_result = dict(zip(words, vectors))"
      ],
      "execution_count": 0,
      "outputs": []
    },
    {
      "metadata": {
        "id": "PNFLrLZHnfEu",
        "colab_type": "code",
        "colab": {
          "base_uri": "https://localhost:8080/",
          "height": 1734
        },
        "outputId": "cb7b9435-6eff-421d-a203-b752653634a6"
      },
      "cell_type": "code",
      "source": [
        "import pandas as pd\n",
        "w2v_df = pd.DataFrame(vectors, columns = ['x1', 'x2'])\n",
        "w2v_df['word'] = words\n",
        "w2v_df = w2v_df[['word', 'x1', 'x2']]\n",
        "w2v_df"
      ],
      "execution_count": 83,
      "outputs": [
        {
          "output_type": "execute_result",
          "data": {
            "text/html": [
              "<div>\n",
              "<style scoped>\n",
              "    .dataframe tbody tr th:only-of-type {\n",
              "        vertical-align: middle;\n",
              "    }\n",
              "\n",
              "    .dataframe tbody tr th {\n",
              "        vertical-align: top;\n",
              "    }\n",
              "\n",
              "    .dataframe thead th {\n",
              "        text-align: right;\n",
              "    }\n",
              "</style>\n",
              "<table border=\"1\" class=\"dataframe\">\n",
              "  <thead>\n",
              "    <tr style=\"text-align: right;\">\n",
              "      <th></th>\n",
              "      <th>word</th>\n",
              "      <th>x1</th>\n",
              "      <th>x2</th>\n",
              "    </tr>\n",
              "  </thead>\n",
              "  <tbody>\n",
              "    <tr>\n",
              "      <th>0</th>\n",
              "      <td>./Punctuation</td>\n",
              "      <td>-0.181005</td>\n",
              "      <td>-1.026260</td>\n",
              "    </tr>\n",
              "    <tr>\n",
              "      <th>1</th>\n",
              "      <td>고양이/Noun</td>\n",
              "      <td>0.458358</td>\n",
              "      <td>-1.430558</td>\n",
              "    </tr>\n",
              "    <tr>\n",
              "      <th>2</th>\n",
              "      <td>에/Josa</td>\n",
              "      <td>-0.533387</td>\n",
              "      <td>-0.880896</td>\n",
              "    </tr>\n",
              "    <tr>\n",
              "      <th>3</th>\n",
              "      <td>의/Josa</td>\n",
              "      <td>-0.462780</td>\n",
              "      <td>-0.916115</td>\n",
              "    </tr>\n",
              "    <tr>\n",
              "      <th>4</th>\n",
              "      <td>이/Josa</td>\n",
              "      <td>-0.919174</td>\n",
              "      <td>-0.860581</td>\n",
              "    </tr>\n",
              "    <tr>\n",
              "      <th>5</th>\n",
              "      <td>노르웨이/Noun</td>\n",
              "      <td>0.673035</td>\n",
              "      <td>-1.670263</td>\n",
              "    </tr>\n",
              "    <tr>\n",
              "      <th>6</th>\n",
              "      <td>숲/Noun</td>\n",
              "      <td>0.593512</td>\n",
              "      <td>-1.605891</td>\n",
              "    </tr>\n",
              "    <tr>\n",
              "      <th>7</th>\n",
              "      <td>을/Josa</td>\n",
              "      <td>-0.208424</td>\n",
              "      <td>-1.003113</td>\n",
              "    </tr>\n",
              "    <tr>\n",
              "      <th>8</th>\n",
              "      <td>털/Noun</td>\n",
              "      <td>-1.769541</td>\n",
              "      <td>-1.017157</td>\n",
              "    </tr>\n",
              "    <tr>\n",
              "      <th>9</th>\n",
              "      <td>은/Josa</td>\n",
              "      <td>-0.265875</td>\n",
              "      <td>-0.975960</td>\n",
              "    </tr>\n",
              "    <tr>\n",
              "      <th>10</th>\n",
              "      <td>는/Josa</td>\n",
              "      <td>0.168788</td>\n",
              "      <td>-1.214705</td>\n",
              "    </tr>\n",
              "    <tr>\n",
              "      <th>11</th>\n",
              "      <td>과/Josa</td>\n",
              "      <td>-0.616522</td>\n",
              "      <td>-0.900407</td>\n",
              "    </tr>\n",
              "    <tr>\n",
              "      <th>12</th>\n",
              "      <td>들/Suffix</td>\n",
              "      <td>0.431971</td>\n",
              "      <td>-1.529344</td>\n",
              "    </tr>\n",
              "    <tr>\n",
              "      <th>13</th>\n",
              "      <td>품종/Noun</td>\n",
              "      <td>0.674083</td>\n",
              "      <td>-1.665986</td>\n",
              "    </tr>\n",
              "    <tr>\n",
              "      <th>14</th>\n",
              "      <td>에서/Josa</td>\n",
              "      <td>1.280529</td>\n",
              "      <td>-2.300518</td>\n",
              "    </tr>\n",
              "    <tr>\n",
              "      <th>15</th>\n",
              "      <td>이다/Josa</td>\n",
              "      <td>0.106336</td>\n",
              "      <td>-1.240974</td>\n",
              "    </tr>\n",
              "    <tr>\n",
              "      <th>16</th>\n",
              "      <td>,/Punctuation</td>\n",
              "      <td>1.217859</td>\n",
              "      <td>-2.235221</td>\n",
              "    </tr>\n",
              "    <tr>\n",
              "      <th>17</th>\n",
              "      <td>있는/Adjective</td>\n",
              "      <td>-0.539884</td>\n",
              "      <td>-0.905909</td>\n",
              "    </tr>\n",
              "    <tr>\n",
              "      <th>18</th>\n",
              "      <td>를/Josa</td>\n",
              "      <td>0.093689</td>\n",
              "      <td>-1.169089</td>\n",
              "    </tr>\n",
              "    <tr>\n",
              "      <th>19</th>\n",
              "      <td>가/Josa</td>\n",
              "      <td>-1.231306</td>\n",
              "      <td>-0.934799</td>\n",
              "    </tr>\n",
              "    <tr>\n",
              "      <th>20</th>\n",
              "      <td>색/Noun</td>\n",
              "      <td>-1.550507</td>\n",
              "      <td>-0.981309</td>\n",
              "    </tr>\n",
              "    <tr>\n",
              "      <th>21</th>\n",
              "      <td>으로/Josa</td>\n",
              "      <td>-0.242060</td>\n",
              "      <td>-1.026477</td>\n",
              "    </tr>\n",
              "    <tr>\n",
              "      <th>22</th>\n",
              "      <td>몸/Noun</td>\n",
              "      <td>-0.895327</td>\n",
              "      <td>-0.852746</td>\n",
              "    </tr>\n",
              "    <tr>\n",
              "      <th>23</th>\n",
              "      <td>그/Noun</td>\n",
              "      <td>0.259445</td>\n",
              "      <td>-1.387133</td>\n",
              "    </tr>\n",
              "    <tr>\n",
              "      <th>24</th>\n",
              "      <td>에/Foreign</td>\n",
              "      <td>1.732613</td>\n",
              "      <td>-2.960019</td>\n",
              "    </tr>\n",
              "    <tr>\n",
              "      <th>25</th>\n",
              "      <td>특성/Noun</td>\n",
              "      <td>0.292361</td>\n",
              "      <td>-0.842801</td>\n",
              "    </tr>\n",
              "    <tr>\n",
              "      <th>26</th>\n",
              "      <td>적/Suffix</td>\n",
              "      <td>0.012616</td>\n",
              "      <td>-0.791627</td>\n",
              "    </tr>\n",
              "    <tr>\n",
              "      <th>27</th>\n",
              "      <td>긴/Verb</td>\n",
              "      <td>-2.027791</td>\n",
              "      <td>-1.090367</td>\n",
              "    </tr>\n",
              "    <tr>\n",
              "      <th>28</th>\n",
              "      <td>있으며/Adjective</td>\n",
              "      <td>-2.005174</td>\n",
              "      <td>-1.060976</td>\n",
              "    </tr>\n",
              "    <tr>\n",
              "      <th>29</th>\n",
              "      <td>부분/Noun</td>\n",
              "      <td>-2.185240</td>\n",
              "      <td>-1.168615</td>\n",
              "    </tr>\n",
              "    <tr>\n",
              "      <th>30</th>\n",
              "      <td>귀/Noun</td>\n",
              "      <td>-2.115607</td>\n",
              "      <td>-1.129661</td>\n",
              "    </tr>\n",
              "    <tr>\n",
              "      <th>31</th>\n",
              "      <td>것/Noun</td>\n",
              "      <td>-1.239091</td>\n",
              "      <td>-0.966379</td>\n",
              "    </tr>\n",
              "    <tr>\n",
              "      <th>32</th>\n",
              "      <td>도/Josa</td>\n",
              "      <td>-1.747963</td>\n",
              "      <td>-1.070766</td>\n",
              "    </tr>\n",
              "    <tr>\n",
              "      <th>33</th>\n",
              "      <td>있다/Adjective</td>\n",
              "      <td>-1.695741</td>\n",
              "      <td>-1.016052</td>\n",
              "    </tr>\n",
              "    <tr>\n",
              "      <th>34</th>\n",
              "      <td>(/Punctuation</td>\n",
              "      <td>0.511118</td>\n",
              "      <td>-1.461640</td>\n",
              "    </tr>\n",
              "    <tr>\n",
              "      <th>35</th>\n",
              "      <td>시작/Noun</td>\n",
              "      <td>0.526805</td>\n",
              "      <td>-1.576904</td>\n",
              "    </tr>\n",
              "    <tr>\n",
              "      <th>36</th>\n",
              "      <td>하여/Verb</td>\n",
              "      <td>-0.395455</td>\n",
              "      <td>-0.981073</td>\n",
              "    </tr>\n",
              "    <tr>\n",
              "      <th>37</th>\n",
              "      <td>품종개량/Noun</td>\n",
              "      <td>0.631311</td>\n",
              "      <td>-1.673868</td>\n",
              "    </tr>\n",
              "    <tr>\n",
              "      <th>38</th>\n",
              "      <td>로/Josa</td>\n",
              "      <td>1.122923</td>\n",
              "      <td>-2.182347</td>\n",
              "    </tr>\n",
              "    <tr>\n",
              "      <th>39</th>\n",
              "      <td>다르다/Adjective</td>\n",
              "      <td>0.083730</td>\n",
              "      <td>-1.207031</td>\n",
              "    </tr>\n",
              "    <tr>\n",
              "      <th>40</th>\n",
              "      <td>세기/Noun</td>\n",
              "      <td>0.500671</td>\n",
              "      <td>-1.507656</td>\n",
              "    </tr>\n",
              "    <tr>\n",
              "      <th>41</th>\n",
              "      <td>바이킹/Noun</td>\n",
              "      <td>0.420659</td>\n",
              "      <td>-1.466561</td>\n",
              "    </tr>\n",
              "    <tr>\n",
              "      <th>42</th>\n",
              "      <td>했다/Verb</td>\n",
              "      <td>0.681446</td>\n",
              "      <td>-1.767499</td>\n",
              "    </tr>\n",
              "    <tr>\n",
              "      <th>43</th>\n",
              "      <td>\"/Punctuation</td>\n",
              "      <td>0.889954</td>\n",
              "      <td>-1.967679</td>\n",
              "    </tr>\n",
              "    <tr>\n",
              "      <th>44</th>\n",
              "      <td>라고/Josa</td>\n",
              "      <td>0.940861</td>\n",
              "      <td>-1.918179</td>\n",
              "    </tr>\n",
              "    <tr>\n",
              "      <th>45</th>\n",
              "      <td>년대/Noun</td>\n",
              "      <td>0.581880</td>\n",
              "      <td>-1.653450</td>\n",
              "    </tr>\n",
              "    <tr>\n",
              "      <th>46</th>\n",
              "      <td>하기/Verb</td>\n",
              "      <td>0.518017</td>\n",
              "      <td>-1.551355</td>\n",
              "    </tr>\n",
              "    <tr>\n",
              "      <th>47</th>\n",
              "      <td>겨울/Noun</td>\n",
              "      <td>-1.853275</td>\n",
              "      <td>-0.985979</td>\n",
              "    </tr>\n",
              "    <tr>\n",
              "      <th>48</th>\n",
              "      <td>게/Josa</td>\n",
              "      <td>-2.297611</td>\n",
              "      <td>-1.175502</td>\n",
              "    </tr>\n",
              "    <tr>\n",
              "      <th>49</th>\n",
              "      <td>눈/Noun</td>\n",
              "      <td>-1.942588</td>\n",
              "      <td>-1.049292</td>\n",
              "    </tr>\n",
              "    <tr>\n",
              "      <th>50</th>\n",
              "      <td>나/Noun</td>\n",
              "      <td>-1.877050</td>\n",
              "      <td>-1.028063</td>\n",
              "    </tr>\n",
              "    <tr>\n",
              "      <th>51</th>\n",
              "      <td>끝/Noun</td>\n",
              "      <td>-2.161199</td>\n",
              "      <td>-1.181266</td>\n",
              "    </tr>\n",
              "    <tr>\n",
              "      <th>52</th>\n",
              "      <td>약간/Noun</td>\n",
              "      <td>-2.003350</td>\n",
              "      <td>-1.076438</td>\n",
              "    </tr>\n",
              "    <tr>\n",
              "      <th>53</th>\n",
              "      <td>편이/Noun</td>\n",
              "      <td>-1.701279</td>\n",
              "      <td>-1.043751</td>\n",
              "    </tr>\n",
              "    <tr>\n",
              "      <th>54</th>\n",
              "      <td>다/Josa</td>\n",
              "      <td>-1.696612</td>\n",
              "      <td>-1.046944</td>\n",
              "    </tr>\n",
              "    <tr>\n",
              "      <th>55</th>\n",
              "      <td>형/Suffix</td>\n",
              "      <td>-1.071615</td>\n",
              "      <td>-0.923826</td>\n",
              "    </tr>\n",
              "    <tr>\n",
              "      <th>56</th>\n",
              "      <td>환경/Noun</td>\n",
              "      <td>-0.073039</td>\n",
              "      <td>-1.147358</td>\n",
              "    </tr>\n",
              "  </tbody>\n",
              "</table>\n",
              "</div>"
            ],
            "text/plain": [
              "             word        x1        x2\n",
              "0   ./Punctuation -0.181005 -1.026260\n",
              "1        고양이/Noun  0.458358 -1.430558\n",
              "2          에/Josa -0.533387 -0.880896\n",
              "3          의/Josa -0.462780 -0.916115\n",
              "4          이/Josa -0.919174 -0.860581\n",
              "5       노르웨이/Noun  0.673035 -1.670263\n",
              "6          숲/Noun  0.593512 -1.605891\n",
              "7          을/Josa -0.208424 -1.003113\n",
              "8          털/Noun -1.769541 -1.017157\n",
              "9          은/Josa -0.265875 -0.975960\n",
              "10         는/Josa  0.168788 -1.214705\n",
              "11         과/Josa -0.616522 -0.900407\n",
              "12       들/Suffix  0.431971 -1.529344\n",
              "13        품종/Noun  0.674083 -1.665986\n",
              "14        에서/Josa  1.280529 -2.300518\n",
              "15        이다/Josa  0.106336 -1.240974\n",
              "16  ,/Punctuation  1.217859 -2.235221\n",
              "17   있는/Adjective -0.539884 -0.905909\n",
              "18         를/Josa  0.093689 -1.169089\n",
              "19         가/Josa -1.231306 -0.934799\n",
              "20         색/Noun -1.550507 -0.981309\n",
              "21        으로/Josa -0.242060 -1.026477\n",
              "22         몸/Noun -0.895327 -0.852746\n",
              "23         그/Noun  0.259445 -1.387133\n",
              "24      에/Foreign  1.732613 -2.960019\n",
              "25        특성/Noun  0.292361 -0.842801\n",
              "26       적/Suffix  0.012616 -0.791627\n",
              "27         긴/Verb -2.027791 -1.090367\n",
              "28  있으며/Adjective -2.005174 -1.060976\n",
              "29        부분/Noun -2.185240 -1.168615\n",
              "30         귀/Noun -2.115607 -1.129661\n",
              "31         것/Noun -1.239091 -0.966379\n",
              "32         도/Josa -1.747963 -1.070766\n",
              "33   있다/Adjective -1.695741 -1.016052\n",
              "34  (/Punctuation  0.511118 -1.461640\n",
              "35        시작/Noun  0.526805 -1.576904\n",
              "36        하여/Verb -0.395455 -0.981073\n",
              "37      품종개량/Noun  0.631311 -1.673868\n",
              "38         로/Josa  1.122923 -2.182347\n",
              "39  다르다/Adjective  0.083730 -1.207031\n",
              "40        세기/Noun  0.500671 -1.507656\n",
              "41       바이킹/Noun  0.420659 -1.466561\n",
              "42        했다/Verb  0.681446 -1.767499\n",
              "43  \"/Punctuation  0.889954 -1.967679\n",
              "44        라고/Josa  0.940861 -1.918179\n",
              "45        년대/Noun  0.581880 -1.653450\n",
              "46        하기/Verb  0.518017 -1.551355\n",
              "47        겨울/Noun -1.853275 -0.985979\n",
              "48         게/Josa -2.297611 -1.175502\n",
              "49         눈/Noun -1.942588 -1.049292\n",
              "50         나/Noun -1.877050 -1.028063\n",
              "51         끝/Noun -2.161199 -1.181266\n",
              "52        약간/Noun -2.003350 -1.076438\n",
              "53        편이/Noun -1.701279 -1.043751\n",
              "54         다/Josa -1.696612 -1.046944\n",
              "55       형/Suffix -1.071615 -0.923826\n",
              "56        환경/Noun -0.073039 -1.147358"
            ]
          },
          "metadata": {
            "tags": []
          },
          "execution_count": 83
        }
      ]
    },
    {
      "metadata": {
        "id": "SXP2e1vYngn8",
        "colab_type": "code",
        "colab": {
          "base_uri": "https://localhost:8080/",
          "height": 347
        },
        "outputId": "9d36f4e0-ff6d-4cd1-f5fd-8dc1f37f403c"
      },
      "cell_type": "code",
      "source": [
        "import matplotlib.pyplot as plt\n",
        "import numpy as np\n",
        "\n",
        "fig, ax = plt.subplots()\n",
        "\n",
        "for word, x1, x2 in zip(w2v_df['word'], w2v_df['x1'], w2v_df['x2']):\n",
        "    ax.annotate(word, (x1,x2 ))\n",
        "    \n",
        "PADDING = 1.0\n",
        "x_axis_min = np.amin(vectors, axis=0)[0] - PADDING\n",
        "y_axis_min = np.amin(vectors, axis=0)[1] - PADDING\n",
        "x_axis_max = np.amax(vectors, axis=0)[0] + PADDING\n",
        "y_axis_max = np.amax(vectors, axis=0)[1] + PADDING\n",
        " \n",
        "plt.xlim(x_axis_min,x_axis_max)\n",
        "plt.ylim(y_axis_min,y_axis_max)\n",
        "plt.rcParams[\"figure.figsize\"] = (10,10)\n",
        "\n",
        "plt.show()"
      ],
      "execution_count": 84,
      "outputs": [
        {
          "output_type": "display_data",
          "data": {
            "image/png": "[encoded data removed]",
            "text/plain": [
              "<Figure size 576x396 with 1 Axes>"
            ]
          },
          "metadata": {
            "tags": []
          }
        }
      ]
    },
    {
      "metadata": {
        "id": "Q536tNQNniEi",
        "colab_type": "code",
        "colab": {}
      },
      "cell_type": "code",
      "source": [
        ""
      ],
      "execution_count": 0,
      "outputs": []
    }
  ]
}