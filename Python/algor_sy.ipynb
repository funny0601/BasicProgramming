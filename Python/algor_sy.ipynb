{
 "cells": [
  {
   "cell_type": "code",
   "execution_count": 32,
   "metadata": {},
   "outputs": [],
   "source": [
    "import re\n",
    "import itertools"
   ]
  },
  {
   "cell_type": "code",
   "execution_count": 33,
   "metadata": {},
   "outputs": [],
   "source": [
    "# - - - - 1번 - - - - #\n",
    "def wordCount():\n",
    "    while(True):\n",
    "        str = input('문장을 입력하시오:') #문장 입력 받기\n",
    "        str=str.lower() #소문자로 일괄 처리\n",
    "        if(str ==\"exit\"):#무한 루프 방지용 탈출조건 설정\n",
    "            break\n",
    "        str=re.sub('[-=+,#/\\?:^$.@*\\\"※~&%ㆍ!』\\\\‘|\\(\\)\\[\\]\\<\\>`\\'…》]', '', str) #특수문자 제거를 위한 처리\n",
    "        checked_dup=list(set(str.split(' ')))#중복 처리를 위해 set 사용한 뒤, 리스트로 재 변경\n",
    "        print(len(checked_dup))#중복 처리된 리스트 길이 반환\n",
    "    return"
   ]
  },
  {
   "cell_type": "code",
   "execution_count": 34,
   "metadata": {},
   "outputs": [
    {
     "name": "stdout",
     "output_type": "stream",
     "text": [
      "문장을 입력하시오:Loving can heal, loving can mend your soul.\n",
      "6\n",
      "문장을 입력하시오:exit\n"
     ]
    }
   ],
   "source": [
    "wordCount() #Loving can heal, loving can mend your soul."
   ]
  },
  {
   "cell_type": "code",
   "execution_count": 35,
   "metadata": {},
   "outputs": [],
   "source": [
    "# - - - - 2번 - - - - #\n",
    "def sameStringCount():\n",
    "    while(True):\n",
    "        str, target = input('문자열과 찾으려는 문자열을 입력하시오:').split(', ') #문장과 문자열 동시 입력 받기\n",
    "        if(str ==\"exit\" and target is ''):#무한 루프 방지용 탈출조건 설정\n",
    "            break\n",
    "        print(str.count(target))#문자열 내에서 특정 문자열 찾아서 반복된 횟수를 반환해주는 함수 사용\n",
    "    return"
   ]
  },
  {
   "cell_type": "code",
   "execution_count": 37,
   "metadata": {},
   "outputs": [
    {
     "name": "stdout",
     "output_type": "stream",
     "text": [
      "문자열과 찾으려는 문자열을 입력하시오:ABCABCDABCABEABCDEFBCABCCA, BCA\n",
      "3\n",
      "문자열과 찾으려는 문자열을 입력하시오:exit, \n"
     ]
    }
   ],
   "source": [
    "sameStringCount() #ABCABCDABCABEABCDEFBCABCCA, BCA"
   ]
  },
  {
   "cell_type": "code",
   "execution_count": 38,
   "metadata": {},
   "outputs": [],
   "source": [
    "# - - - - 3번 - - - - #\n",
    "def uncompress(str):\n",
    "    print(int(str[0])*str[1]+int(str[2])*str[3]+int(str[4])*str[5]) #숫자만큼 문자 반복시키기"
   ]
  },
  {
   "cell_type": "code",
   "execution_count": 39,
   "metadata": {},
   "outputs": [
    {
     "name": "stdout",
     "output_type": "stream",
     "text": [
      "aabbbbbc\n",
      "xxxyyyyyzz\n"
     ]
    }
   ],
   "source": [
    "uncompress('2a5b1c')\n",
    "uncompress('3x5y2z')"
   ]
  },
  {
   "cell_type": "code",
   "execution_count": 40,
   "metadata": {},
   "outputs": [],
   "source": [
    "# - - - - 4번 - - - - #\n",
    "def vowelCheck():\n",
    "    while(True):\n",
    "        dict = { 'a' : 0, 'e' : 0, 'i':0, 'o': 0, 'u':0 }\n",
    "        #루프 돌 때마다 새로운 단어를 입력받기 때문에\n",
    "        #딕셔너리 value값을 초기화 시킴\n",
    "        str = input('Enter one word:') #단어 입력 받기\n",
    "        if(str ==\"exit\"):#무한 루프 방지용 탈출조건 설정\n",
    "            break\n",
    "        for i in str:#입력받은 단어의 한 문자 단위로 반복 돌리기\n",
    "            for k in dict.keys():#딕셔너리의 키 값 당 이중 for문 돌리기\n",
    "                if i is k: #키 값과 문자가 같다면, 즉 모음 5개 중 하나라면\n",
    "                    dict[k]=dict[k]+1 #해당 모음 키 값의 value 값을 증가시킴\n",
    "        for key, value in dict.items(): #요구된 출력 형태에 맞게 출력시키기 위해 살짝 장난치기\n",
    "            print('vowel '+key, \":\", value)\n",
    "    return"
   ]
  },
  {
   "cell_type": "code",
   "execution_count": 41,
   "metadata": {},
   "outputs": [
    {
     "name": "stdout",
     "output_type": "stream",
     "text": [
      "Enter one word:temporary\n",
      "vowel a : 1\n",
      "vowel e : 1\n",
      "vowel i : 0\n",
      "vowel o : 1\n",
      "vowel u : 0\n",
      "Enter one word:exit\n"
     ]
    }
   ],
   "source": [
    "vowelCheck() #temporary"
   ]
  },
  {
   "cell_type": "code",
   "execution_count": 42,
   "metadata": {},
   "outputs": [],
   "source": [
    "# - - - - 5번 - - - - #\n",
    "def anagram():\n",
    "     while(True):\n",
    "        str = input('단어를 입력하시오:') #단어 입력 받기\n",
    "        str=str.lower() #혹시 몰라서 소문자 해주기\n",
    "        if(str ==\"exit\"):#무한 루프 방지용 탈출조건 설정\n",
    "            break\n",
    "        anagram=[]\n",
    "        anagram=list(map(\"\".join, itertools.permutations(str))) \n",
    "        #삽질의 결과.. 가능한 모든 순열 조합을 구해주는 모듈 발견\n",
    "        #데이터 분석에 많이 쓰이는 모듈이라고 하니.. 기억해두겠음 '-' !!\n",
    "        print(anagram, '총 개수는', len(anagram), '개 입니다.')"
   ]
  },
  {
   "cell_type": "code",
   "execution_count": 43,
   "metadata": {},
   "outputs": [
    {
     "name": "stdout",
     "output_type": "stream",
     "text": [
      "단어를 입력하시오:pen\n",
      "['pen', 'pne', 'epn', 'enp', 'npe', 'nep'] 총 개수는 6 개 입니다.\n",
      "단어를 입력하시오:exit\n"
     ]
    }
   ],
   "source": [
    "anagram()"
   ]
  }
 ],
 "metadata": {
  "kernelspec": {
   "display_name": "Python 3",
   "language": "python",
   "name": "python3"
  },
  "language_info": {
   "codemirror_mode": {
    "name": "ipython",
    "version": 3
   },
   "file_extension": ".py",
   "mimetype": "text/x-python",
   "name": "python",
   "nbconvert_exporter": "python",
   "pygments_lexer": "ipython3",
   "version": "3.6.7"
  }
 },
 "nbformat": 4,
 "nbformat_minor": 2
}
