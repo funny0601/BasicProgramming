{
 "cells": [
  {
   "cell_type": "code",
   "execution_count": 27,
   "metadata": {},
   "outputs": [
    {
     "name": "stdout",
     "output_type": "stream",
     "text": [
      "[30]\n"
     ]
    }
   ],
   "source": [
    "def MaxSum(t): \n",
    "    tri=t\n",
    "    tri=tri[: :-1] \n",
    "\n",
    "    max_sum=0\n",
    "    tri_len=len(tri)\n",
    "    for i in range(tri_len):\n",
    "        for j in range(len(tri[i])-1):\n",
    "            tri[i+1][j] += max(tri[i][j], tri[i][j+1])\n",
    "\n",
    "    return(tri[i])\n",
    "\n",
    "s1 = [[7],[3,8],[8,1,0],[2,7,4,4],[4,5,2,6,5]]\n",
    "\n",
    "\n",
    "print(MaxSum(s1))"
   ]
  },
  {
   "cell_type": "code",
   "execution_count": 47,
   "metadata": {},
   "outputs": [
    {
     "name": "stdout",
     "output_type": "stream",
     "text": [
      "3\n",
      "3\n",
      "1\n",
      "0\n",
      "0\n",
      "0\n",
      "1\n",
      "0\n",
      "0\n",
      "0\n",
      "1\n",
      "3\n"
     ]
    }
   ],
   "source": [
    "n = int(input())\n",
    "m = int(input())\n",
    "\n",
    "dp = [[0 for cols in range(n+2)]for rows in range(m+2)]\n",
    "pick = [[0 for cols in range(n+2)]for rows in range(m+2)]\n",
    "\n",
    "def find(a, b):\n",
    "    if(a>=len(pick) or b>=len(pick[0])):\n",
    "        return 0\n",
    "    \n",
    "    if(dp[a][b]>=0):\n",
    "        return dp[a][b]\n",
    "    \n",
    "    dp[a][b] = max(find(a+1, b), find(a, b+1), find(a+1, b+1))+pick[a][b] \n",
    "    return dp[a][b]\n",
    "                          \n",
    "for i in range(1, n+1):\n",
    "    for j in range(1, m+1):\n",
    "        dp[i][j]= -1\n",
    "        \n",
    "for i in range(1, n+1):\n",
    "    for j in range(1, m+1):\n",
    "        pick[i][j]=int(input())\n",
    "\n",
    "print(find(1, 1))"
   ]
  },
  {
   "cell_type": "code",
   "execution_count": 74,
   "metadata": {},
   "outputs": [
    {
     "name": "stdout",
     "output_type": "stream",
     "text": [
      "4\n",
      "40\n",
      "30\n",
      "30\n",
      "50\n",
      "300\n"
     ]
    }
   ],
   "source": [
    "n = int(input())\n",
    "\n",
    "cost = [0 for cols in range(n+1)]\n",
    "dp = [[0 for cols in range(n+1)]for rows in range(n+1)]\n",
    "\n",
    "for i in range(1, n+1):\n",
    "    number = int(input())\n",
    "    cost[i] = cost[i-1] + number\n",
    "\n",
    "for k in range(1, n):\n",
    "    for j in range(1, n+1-k):\n",
    "        dp[j][j+k] = 99999\n",
    "        \n",
    "        for m in range(j, j+k):\n",
    "            dp[j][j+k] = min(dp[j][j+k], (dp[j][m] + dp[m+1][j+k]))\n",
    "        \n",
    "        dp[j][j+k] = dp[j][j+k] + cost[j+k] - cost[j-1]\n",
    "        \n",
    "print(dp[1][n])"
   ]
  }
 ],
 "metadata": {
  "kernelspec": {
   "display_name": "Python 3",
   "language": "python",
   "name": "python3"
  },
  "language_info": {
   "codemirror_mode": {
    "name": "ipython",
    "version": 3
   },
   "file_extension": ".py",
   "mimetype": "text/x-python",
   "name": "python",
   "nbconvert_exporter": "python",
   "pygments_lexer": "ipython3",
   "version": "3.7.1"
  }
 },
 "nbformat": 4,
 "nbformat_minor": 2
}
