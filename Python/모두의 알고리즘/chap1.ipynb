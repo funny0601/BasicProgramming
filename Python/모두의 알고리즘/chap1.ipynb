{
 "cells": [
  {
   "cell_type": "code",
   "execution_count": 1,
   "metadata": {},
   "outputs": [],
   "source": [
    "import math"
   ]
  },
  {
   "cell_type": "code",
   "execution_count": 2,
   "metadata": {},
   "outputs": [],
   "source": [
    "class chap1_algorithms:\n",
    "    \n",
    "    ## 부호 판단으로 절댓값 구하기 알고리즘\n",
    "    def abs_sign(a):\n",
    "        if a >= 0:\n",
    "            return a\n",
    "        else:\n",
    "            return -a\n",
    "    ## 제곱 후 제곱근으로 절댓값 구하기 알고리즘\n",
    "    def abs_square(a):\n",
    "        b = a **2\n",
    "        return int(math.sqrt(b))\n",
    "    \n",
    "    ## 차례로 1부터 n까지 연속한 숫자의 합을 구하는 알고리즘\n",
    "    def sum_n(a):\n",
    "        s = 0\n",
    "        for i in range(1, a+1):\n",
    "            s = s + i\n",
    "        return s\n",
    "    ## 1부터 n까지의 합 공식\n",
    "    def sum_n2(a):\n",
    "        return a * (a+1) // 2\n",
    "    \n",
    "    ### 연습문제 1-1\n",
    "    ## 순차적으로 더하기\n",
    "    def squared_sum_n(a):\n",
    "        s = 0\n",
    "        for i in range(1, a+1):\n",
    "            s = s + i**2\n",
    "        return s\n",
    "    \n",
    "    ## 공식 사용\n",
    "    def squared_sum_n2(a):\n",
    "        return a * (a+1) * (2*a + 1) // 6"
   ]
  },
  {
   "cell_type": "code",
   "execution_count": 4,
   "metadata": {},
   "outputs": [
    {
     "name": "stdout",
     "output_type": "stream",
     "text": [
      "5\n"
     ]
    }
   ],
   "source": [
    "print(chap1_algorithms.abs_sign(5))\n",
    "print(chap1_algorithms.abs_square(-8))\n",
    "print(chap1_algorithms.sum_n(100))\n",
    "print(chap1_algorithms.sum_n2(100))\n",
    "print(chap1_algorithms.squared_sum_n(10))\n",
    "print(chap1_algorithms.squared_sum_n2(10))"
   ]
  },
  {
   "cell_type": "code",
   "execution_count": 31,
   "metadata": {},
   "outputs": [
    {
     "data": {
      "text/plain": [
       "385"
      ]
     },
     "execution_count": 31,
     "metadata": {},
     "output_type": "execute_result"
    }
   ],
   "source": [
    "squared_sum_n2(10)"
   ]
  },
  {
   "cell_type": "code",
   "execution_count": null,
   "metadata": {},
   "outputs": [],
   "source": []
  }
 ],
 "metadata": {
  "kernelspec": {
   "display_name": "Python 3",
   "language": "python",
   "name": "python3"
  },
  "language_info": {
   "codemirror_mode": {
    "name": "ipython",
    "version": 3
   },
   "file_extension": ".py",
   "mimetype": "text/x-python",
   "name": "python",
   "nbconvert_exporter": "python",
   "pygments_lexer": "ipython3",
   "version": "3.7.1"
  }
 },
 "nbformat": 4,
 "nbformat_minor": 2
}
