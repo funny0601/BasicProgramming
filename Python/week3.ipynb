{
 "cells": [
  {
   "cell_type": "code",
   "execution_count": 58,
   "metadata": {},
   "outputs": [],
   "source": [
    "def Tokenizer():\n",
    "        import re\n",
    "        while(True):\n",
    "            s = input(\"문장을 입력하세요:\")\n",
    "        \n",
    "            if s == \"exit\":\n",
    "                break\n",
    "            s=s.split(':')\n",
    "            print(s)\n",
    "            s1 = (''.join(s))\n",
    "            s1=s1.split()\n",
    "            print(s1)"
   ]
  },
  {
   "cell_type": "code",
   "execution_count": 59,
   "metadata": {},
   "outputs": [
    {
     "name": "stdout",
     "output_type": "stream",
     "text": [
      "문장을 입력하세요:Examples of contractions include: don’t, isn’t, and wouldn’t\n",
      "['Examples of contractions include', ' don’t, isn’t, and wouldn’t']\n",
      "['Examples', 'of', 'contractions', 'include', 'don’t,', 'isn’t,', 'and', 'wouldn’t']\n",
      "문장을 입력하세요:exit\n"
     ]
    }
   ],
   "source": [
    "Tokenizer()"
   ]
  },
  {
   "cell_type": "code",
   "execution_count": null,
   "metadata": {},
   "outputs": [],
   "source": [
    "#1~ 49까지의 수 중에서 랜덤으로 6개의 숫자를 뽑아서 오름차순으로 출력하는 함수 만들기\n",
    "#단, 중복은 허용하지 않는다"
   ]
  },
  {
   "cell_type": "code",
   "execution_count": 6,
   "metadata": {},
   "outputs": [
    {
     "name": "stdout",
     "output_type": "stream",
     "text": [
      "[1, 2, 3, 4, 5, 6, 7, 8, 9, 10, 11, 12, 13, 14, 15, 16, 17, 18, 19, 20, 21, 22, 23, 24, 25, 26, 27, 28, 29, 30, 31, 32, 33, 34, 35, 36, 37, 38, 39, 40, 41, 42, 43, 44, 45, 46, 47, 48, 49]\n",
      "[12, 16, 17, 23, 31, 36]\n"
     ]
    }
   ],
   "source": [
    "import random\n",
    "#from random import * 로 처리했더니 실행이 안되더라.. !\n",
    "\n",
    "lotto_list=[]\n",
    "for i in range(1, 50):\n",
    "    lotto_list.append(i)\n",
    "print(lotto_list)\n",
    "\n",
    "s = random.sample(lotto_list, 6)\n",
    "s.sort()\n",
    "\n",
    "print(s)"
   ]
  }
 ],
 "metadata": {
  "kernelspec": {
   "display_name": "Python 3",
   "language": "python",
   "name": "python3"
  },
  "language_info": {
   "codemirror_mode": {
    "name": "ipython",
    "version": 3
   },
   "file_extension": ".py",
   "mimetype": "text/x-python",
   "name": "python",
   "nbconvert_exporter": "python",
   "pygments_lexer": "ipython3",
   "version": "3.6.5"
  }
 },
 "nbformat": 4,
 "nbformat_minor": 2
}
